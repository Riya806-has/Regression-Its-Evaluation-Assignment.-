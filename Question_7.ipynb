{
  "nbformat": 4,
  "nbformat_minor": 0,
  "metadata": {
    "colab": {
      "provenance": []
    },
    "kernelspec": {
      "name": "python3",
      "display_name": "Python 3"
    },
    "language_info": {
      "name": "python"
    }
  },
  "cells": [
    {
      "cell_type": "code",
      "source": [
        "# Question: 7\n",
        "\n",
        "import pandas as pd\n",
        "import statsmodels.api as sm\n",
        "from statsmodels.stats.outliers_influence import variance_inflation_factor\n",
        "\n",
        "# Sample data\n",
        "data = {\n",
        "    'Area': [1200, 1500, 1800, 2000],\n",
        "    'Rooms': [2, 3, 3, 4],\n",
        "    'Price': [250000, 300000, 320000, 370000]\n",
        "}\n",
        "\n",
        "df = pd.DataFrame(data)\n",
        "\n",
        "# Define independent variables (X) and dependent variable (y)\n",
        "X = df[['Area', 'Rooms']]\n",
        "y = df['Price']\n",
        "\n",
        "# Add constant term for intercept\n",
        "X_const = sm.add_constant(X)\n",
        "\n",
        "# Fit multiple linear regression model\n",
        "model = sm.OLS(y, X_const).fit()\n",
        "\n",
        "# Display model summary\n",
        "print(\"Regression Summary:\")\n",
        "print(model.summary())\n",
        "\n",
        "# Calculate VIF for each explanatory variable\n",
        "vif_data = pd.DataFrame()\n",
        "vif_data[\"Feature\"] = X_const.columns\n",
        "vif_data[\"VIF\"] = [variance_inflation_factor(X_const.values, i) for i in range(X_const.shape[1])]\n",
        "\n",
        "print(\"\\nVariance Inflation Factor (VIF):\")\n",
        "print(vif_data)\n"
      ],
      "metadata": {
        "colab": {
          "base_uri": "https://localhost:8080/"
        },
        "id": "BHinjHujyGlF",
        "outputId": "3f465039-2ea2-4654-8537-11f1de83e893"
      },
      "execution_count": 2,
      "outputs": [
        {
          "output_type": "stream",
          "name": "stdout",
          "text": [
            "Regression Summary:\n",
            "                            OLS Regression Results                            \n",
            "==============================================================================\n",
            "Dep. Variable:                  Price   R-squared:                       0.999\n",
            "Model:                            OLS   Adj. R-squared:                  0.996\n",
            "Method:                 Least Squares   F-statistic:                     351.0\n",
            "Date:                Tue, 29 Jul 2025   Prob (F-statistic):             0.0377\n",
            "Time:                        15:25:03   Log-Likelihood:                -35.242\n",
            "No. Observations:                   4   AIC:                             76.48\n",
            "Df Residuals:                       1   BIC:                             74.64\n",
            "Df Model:                           2                                         \n",
            "Covariance Type:            nonrobust                                         \n",
            "==============================================================================\n",
            "                 coef    std err          t      P>|t|      [0.025      0.975]\n",
            "------------------------------------------------------------------------------\n",
            "const       1.032e+05   9488.293     10.872      0.058   -1.74e+04    2.24e+05\n",
            "Area          63.1579     14.886      4.243      0.147    -125.992     252.308\n",
            "Rooms       3.474e+04   6381.240      5.444      0.116   -4.63e+04    1.16e+05\n",
            "==============================================================================\n",
            "Omnibus:                          nan   Durbin-Watson:                   2.053\n",
            "Prob(Omnibus):                    nan   Jarque-Bera (JB):                0.554\n",
            "Skew:                          -0.154   Prob(JB):                        0.758\n",
            "Kurtosis:                       1.202   Cond. No.                     1.01e+04\n",
            "==============================================================================\n",
            "\n",
            "Notes:\n",
            "[1] Standard Errors assume that the covariance matrix of the errors is correctly specified.\n",
            "[2] The condition number is large, 1.01e+04. This might indicate that there are\n",
            "strong multicollinearity or other numerical problems.\n",
            "\n",
            "Variance Inflation Factor (VIF):\n",
            "  Feature        VIF\n",
            "0   const  34.210526\n",
            "1    Area   7.736842\n",
            "2   Rooms   7.736842\n"
          ]
        },
        {
          "output_type": "stream",
          "name": "stderr",
          "text": [
            "/usr/local/lib/python3.11/dist-packages/statsmodels/stats/stattools.py:74: ValueWarning: omni_normtest is not valid with less than 8 observations; 4 samples were given.\n",
            "  warn(\"omni_normtest is not valid with less than 8 observations; %i \"\n"
          ]
        }
      ]
    }
  ]
}